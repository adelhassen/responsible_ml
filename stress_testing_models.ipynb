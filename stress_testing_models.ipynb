{
 "cells": [
  {
   "cell_type": "markdown",
   "metadata": {},
   "source": [
    "## License \n",
    "\n",
    "Copyright 2021 Patrick Hall (jphall@gwu.edu)\n",
    "\n",
    "Licensed under the Apache License, Version 2.0 (the \"License\");\n",
    "you may not use this file except in compliance with the License.\n",
    "You may obtain a copy of the License at\n",
    "\n",
    "    http://www.apache.org/licenses/LICENSE-2.0\n",
    "\n",
    "Unless required by applicable law or agreed to in writing, software\n",
    "distributed under the License is distributed on an \"AS IS\" BASIS,\n",
    "WITHOUT WARRANTIES OR CONDITIONS OF ANY KIND, either express or implied.\n",
    "See the License for the specific language governing permissions and\n",
    "limitations under the License.\n",
    "\n",
    "*DISCLAIMER*: This notebook is not legal or compliance advice."
   ]
  },
  {
   "cell_type": "markdown",
   "metadata": {},
   "source": [
    "# Assignment 5 Template "
   ]
  },
  {
   "cell_type": "markdown",
   "metadata": {},
   "source": [
    "#### Imports and inits"
   ]
  },
  {
   "cell_type": "code",
   "execution_count": 1,
   "metadata": {
    "scrolled": true
   },
   "outputs": [],
   "source": [
    "from interpret.glassbox import ExplainableBoostingClassifier      # interpret ebm class\n",
    "from interpret.perf import ROC                                    # ROC measure for ebm\n",
    "import numpy as np                                                # for basic array manipulation                            \n",
    "import pandas as pd                                               # for dataframe manipulation\n",
    "import time                                                       # for timers\n",
    "\n",
    "# plotting functionality\n",
    "import matplotlib.pyplot as plt\n",
    "from matplotlib.lines import Line2D # necessary for custom legends\n",
    "\n",
    "# display plots in notebook\n",
    "%matplotlib inline\n",
    "\n",
    "# set numpy random seed for better reproducibility\n",
    "SEED = 12345 \n",
    "np.random.seed(SEED)\n",
    "\n",
    "# set number of threads\n",
    "NTHREAD = 4"
   ]
  },
  {
   "cell_type": "markdown",
   "metadata": {},
   "source": [
    "#### Start global timer"
   ]
  },
  {
   "cell_type": "code",
   "execution_count": 2,
   "metadata": {},
   "outputs": [],
   "source": [
    "tic = time.time()"
   ]
  },
  {
   "cell_type": "markdown",
   "metadata": {},
   "source": [
    "#### Import data"
   ]
  },
  {
   "cell_type": "code",
   "execution_count": 3,
   "metadata": {},
   "outputs": [],
   "source": [
    "data = pd.read_csv('hmda_train_preprocessed.csv')"
   ]
  },
  {
   "cell_type": "markdown",
   "metadata": {},
   "source": [
    "#### Assign basic modeling roles"
   ]
  },
  {
   "cell_type": "code",
   "execution_count": 4,
   "metadata": {},
   "outputs": [],
   "source": [
    "y_name = 'high_priced'"
   ]
  },
  {
   "cell_type": "markdown",
   "metadata": {},
   "source": [
    "## Fit interpretable model"
   ]
  },
  {
   "cell_type": "markdown",
   "metadata": {},
   "source": [
    "#### Split data into train and validation partitions "
   ]
  },
  {
   "cell_type": "code",
   "execution_count": 5,
   "metadata": {
    "scrolled": true
   },
   "outputs": [
    {
     "name": "stdout",
     "output_type": "stream",
     "text": [
      "Train data rows = 112253, columns = 23\n",
      "Validation data rows = 48085, columns = 23\n"
     ]
    }
   ],
   "source": [
    "np.random.seed(SEED) # preserve exact reproducibility for this cell\n",
    "\n",
    "split_ratio = 0.7 # 70%/30% train/test split\n",
    "\n",
    "# execute split\n",
    "split = np.random.rand(len(data)) < split_ratio\n",
    "train = data[split]\n",
    "valid = data[~split]\n",
    "\n",
    "# summarize split\n",
    "print('Train data rows = %d, columns = %d' % (train.shape[0], train.shape[1]))\n",
    "print('Validation data rows = %d, columns = %d' % (valid.shape[0], valid.shape[1]))\n",
    "\n",
    "# benchmark - Train data rows = 112253, columns = 23\n",
    "# benchmark - Validation data rows = 48085, columns = 23"
   ]
  },
  {
   "cell_type": "markdown",
   "metadata": {},
   "source": [
    "### Explainable Boosting Machine"
   ]
  },
  {
   "cell_type": "markdown",
   "metadata": {},
   "source": [
    "#### Retrain most accurate model above 0.8 AIR to debug"
   ]
  },
  {
   "cell_type": "code",
   "execution_count": 6,
   "metadata": {},
   "outputs": [
    {
     "name": "stdout",
     "output_type": "stream",
     "text": [
      "Remediated EBM retrained with AUC: 0.8243.\n"
     ]
    }
   ],
   "source": [
    "# params dict for remediated models\n",
    "rem_params = {'max_bins': 128,\n",
    "              'max_interaction_bins': 32,\n",
    "              'interactions': 15,\n",
    "              'outer_bags': 8,\n",
    "              'inner_bags': 0,\n",
    "              'learning_rate': 0.01,\n",
    "              'validation_size': 0.25,\n",
    "              'min_samples_leaf': 5,\n",
    "              'max_leaves': 3,\n",
    "              'early_stopping_rounds': 100.0,\n",
    "              'n_jobs': 4,\n",
    "              'random_state': 12345}\n",
    "\n",
    "rem_x_names = ['loan_to_value_ratio_std',\n",
    "               'no_intro_rate_period_std',\n",
    "               'intro_rate_period_std',\n",
    "               'debt_to_income_ratio_missing',\n",
    "               'income_std',\n",
    "               'debt_to_income_ratio_std',\n",
    "               'conforming',\n",
    "               'property_value_std',\n",
    "               'loan_amount_std',\n",
    "               'term_360']\n",
    "\n",
    "# retrain\n",
    "rem_ebm = ExplainableBoostingClassifier(**rem_params)\n",
    "rem_ebm.fit(train[rem_x_names], train[y_name]) \n",
    "rem_ebm_perf = ROC(rem_ebm.predict_proba).explain_perf(valid[rem_x_names], valid[y_name])\n",
    "rem_auc = rem_ebm_perf._internal_obj['overall']['auc']\n",
    "print('Remediated EBM retrained with AUC: %.4f.' % rem_auc)"
   ]
  },
  {
   "cell_type": "markdown",
   "metadata": {},
   "source": [
    "## Sensitivity Analysis: Stress Testing"
   ]
  },
  {
   "cell_type": "markdown",
   "metadata": {},
   "source": [
    "#### Simulate recession conditions in validation data"
   ]
  },
  {
   "cell_type": "code",
   "execution_count": 7,
   "metadata": {},
   "outputs": [
    {
     "data": {
      "text/html": [
       "<div>\n",
       "<style scoped>\n",
       "    .dataframe tbody tr th:only-of-type {\n",
       "        vertical-align: middle;\n",
       "    }\n",
       "\n",
       "    .dataframe tbody tr th {\n",
       "        vertical-align: top;\n",
       "    }\n",
       "\n",
       "    .dataframe thead th {\n",
       "        text-align: right;\n",
       "    }\n",
       "</style>\n",
       "<table border=\"1\" class=\"dataframe\">\n",
       "  <thead>\n",
       "    <tr style=\"text-align: right;\">\n",
       "      <th></th>\n",
       "      <th>row_id</th>\n",
       "      <th>black</th>\n",
       "      <th>asian</th>\n",
       "      <th>white</th>\n",
       "      <th>amind</th>\n",
       "      <th>hipac</th>\n",
       "      <th>hispanic</th>\n",
       "      <th>non_hispanic</th>\n",
       "      <th>male</th>\n",
       "      <th>female</th>\n",
       "      <th>...</th>\n",
       "      <th>term_360</th>\n",
       "      <th>conforming</th>\n",
       "      <th>debt_to_income_ratio_missing</th>\n",
       "      <th>loan_amount_std</th>\n",
       "      <th>loan_to_value_ratio_std</th>\n",
       "      <th>no_intro_rate_period_std</th>\n",
       "      <th>intro_rate_period_std</th>\n",
       "      <th>property_value_std</th>\n",
       "      <th>income_std</th>\n",
       "      <th>debt_to_income_ratio_std</th>\n",
       "    </tr>\n",
       "    <tr>\n",
       "      <th>high_priced</th>\n",
       "      <th></th>\n",
       "      <th></th>\n",
       "      <th></th>\n",
       "      <th></th>\n",
       "      <th></th>\n",
       "      <th></th>\n",
       "      <th></th>\n",
       "      <th></th>\n",
       "      <th></th>\n",
       "      <th></th>\n",
       "      <th></th>\n",
       "      <th></th>\n",
       "      <th></th>\n",
       "      <th></th>\n",
       "      <th></th>\n",
       "      <th></th>\n",
       "      <th></th>\n",
       "      <th></th>\n",
       "      <th></th>\n",
       "      <th></th>\n",
       "      <th></th>\n",
       "    </tr>\n",
       "  </thead>\n",
       "  <tbody>\n",
       "    <tr>\n",
       "      <td>0</td>\n",
       "      <td>80167.437548</td>\n",
       "      <td>0.068694</td>\n",
       "      <td>0.083001</td>\n",
       "      <td>0.841324</td>\n",
       "      <td>0.004612</td>\n",
       "      <td>0.002369</td>\n",
       "      <td>0.105953</td>\n",
       "      <td>0.894047</td>\n",
       "      <td>0.619047</td>\n",
       "      <td>0.380953</td>\n",
       "      <td>...</td>\n",
       "      <td>0.957652</td>\n",
       "      <td>0.922468</td>\n",
       "      <td>0.000553</td>\n",
       "      <td>0.037905</td>\n",
       "      <td>-0.034752</td>\n",
       "      <td>-0.006250</td>\n",
       "      <td>0.011029</td>\n",
       "      <td>0.041912</td>\n",
       "      <td>0.004454</td>\n",
       "      <td>-0.044001</td>\n",
       "    </tr>\n",
       "    <tr>\n",
       "      <td>1</td>\n",
       "      <td>80460.180745</td>\n",
       "      <td>0.175784</td>\n",
       "      <td>0.038971</td>\n",
       "      <td>0.776493</td>\n",
       "      <td>0.005627</td>\n",
       "      <td>0.003126</td>\n",
       "      <td>0.256724</td>\n",
       "      <td>0.743276</td>\n",
       "      <td>0.563674</td>\n",
       "      <td>0.436326</td>\n",
       "      <td>...</td>\n",
       "      <td>0.990940</td>\n",
       "      <td>0.987554</td>\n",
       "      <td>0.001281</td>\n",
       "      <td>-0.377695</td>\n",
       "      <td>0.340738</td>\n",
       "      <td>0.051139</td>\n",
       "      <td>-0.095051</td>\n",
       "      <td>-0.420122</td>\n",
       "      <td>-0.023574</td>\n",
       "      <td>0.398884</td>\n",
       "    </tr>\n",
       "  </tbody>\n",
       "</table>\n",
       "<p>2 rows × 22 columns</p>\n",
       "</div>"
      ],
      "text/plain": [
       "                   row_id     black     asian     white     amind     hipac  \\\n",
       "high_priced                                                                   \n",
       "0            80167.437548  0.068694  0.083001  0.841324  0.004612  0.002369   \n",
       "1            80460.180745  0.175784  0.038971  0.776493  0.005627  0.003126   \n",
       "\n",
       "             hispanic  non_hispanic      male    female  ...  term_360  \\\n",
       "high_priced                                              ...             \n",
       "0            0.105953      0.894047  0.619047  0.380953  ...  0.957652   \n",
       "1            0.256724      0.743276  0.563674  0.436326  ...  0.990940   \n",
       "\n",
       "             conforming  debt_to_income_ratio_missing  loan_amount_std  \\\n",
       "high_priced                                                              \n",
       "0              0.922468                      0.000553         0.037905   \n",
       "1              0.987554                      0.001281        -0.377695   \n",
       "\n",
       "             loan_to_value_ratio_std  no_intro_rate_period_std  \\\n",
       "high_priced                                                      \n",
       "0                          -0.034752                 -0.006250   \n",
       "1                           0.340738                  0.051139   \n",
       "\n",
       "             intro_rate_period_std  property_value_std  income_std  \\\n",
       "high_priced                                                          \n",
       "0                         0.011029            0.041912    0.004454   \n",
       "1                        -0.095051           -0.420122   -0.023574   \n",
       "\n",
       "             debt_to_income_ratio_std  \n",
       "high_priced                            \n",
       "0                           -0.044001  \n",
       "1                            0.398884  \n",
       "\n",
       "[2 rows x 22 columns]"
      ]
     },
     "execution_count": 7,
     "metadata": {},
     "output_type": "execute_result"
    }
   ],
   "source": [
    "train.groupby('high_priced').mean()"
   ]
  },
  {
   "cell_type": "code",
   "execution_count": 8,
   "metadata": {},
   "outputs": [
    {
     "data": {
      "image/png": "[encoded data removed]",
      "text/plain": [
       "<Figure size 1080x1080 with 12 Axes>"
      ]
     },
     "metadata": {
      "needs_background": "light"
     },
     "output_type": "display_data"
    }
   ],
   "source": [
    "np.random.seed(SEED) # set seed for this cell\n",
    "\n",
    "rec_valid = valid.copy(deep=True) # deep copy of validation data\n",
    "\n",
    "# use severity variable to control how many customers are affected\n",
    "severity = 0.1\n",
    "affected = np.random.rand(len(rec_valid)) < severity\n",
    "\n",
    "# decrease property values by 5%\n",
    "rec_valid.loc[affected, 'property_value_std'] = rec_valid.loc[affected, 'property_value_std'] * 0.95\n",
    "\n",
    "# less intro rates\n",
    "rec_valid.loc[affected, 'no_intro_rate_period_std'] = 0.2443944\n",
    "\n",
    "# lower loan amounts by 5%\n",
    "rec_valid.loc[affected, 'loan_amount_std'] = rec_valid.loc[affected, 'loan_amount_std'] * 0.95\n",
    "\n",
    "# decrease loan to property\n",
    "rec_valid.loc[affected, 'loan_to_value_ratio_std'] = rec_valid.loc[affected, 'loan_to_value_ratio_std'] * 0.95\n",
    "\n",
    "# lower income by 5%\n",
    "rec_valid.loc[affected, 'income_std'] = rec_valid.loc[affected, 'income_std'] * 0.95\n",
    "\n",
    "# less conforming loans\n",
    "rec_valid.loc[affected, 'conforming'] = 0\n",
    "\n",
    "# shorter intro rate periods\n",
    "rec_valid.loc[affected, 'loan_amount_std'] = rec_valid.loc[affected, 'loan_amount_std'] * 0.95\n",
    "\n",
    "# 5% higher debt-to-income ratios \n",
    "rec_valid.loc[affected, 'debt_to_income_ratio_std'] = rec_valid.loc[affected, 'debt_to_income_ratio_std'] * 1.05\n",
    "\n",
    "# more missing values for debt_to_income_ratio_std\n",
    "rec_valid.loc[affected, 'debt_to_income_ratio_missing'] = 1\n",
    "\n",
    "# more long loans\n",
    "rec_valid.loc[affected, 'term_360'] = 1\n",
    "\n",
    "# update target\n",
    "rec_valid.loc[affected, y_name] = np.random.choice(2, len(rec_valid.loc[affected, y_name]))\n",
    "\n",
    "# visualize results\n",
    "_ = rec_valid[rem_x_names + [y_name]].hist(bins=50, figsize=(15, 15))"
   ]
  },
  {
   "cell_type": "markdown",
   "metadata": {},
   "source": [
    "#### Find AUC for best model in simulated recession conditions"
   ]
  },
  {
   "cell_type": "code",
   "execution_count": 9,
   "metadata": {},
   "outputs": [
    {
     "name": "stdout",
     "output_type": "stream",
     "text": [
      "Remediated EBM retrained with AUC: 0.7513.\n"
     ]
    }
   ],
   "source": [
    "rec_rem_ebm_perf = ROC(rem_ebm.predict_proba).explain_perf(rec_valid[rem_x_names], rec_valid[y_name])\n",
    "rec_rem_auc = rec_rem_ebm_perf._internal_obj['overall']['auc']\n",
    "print('Remediated EBM retrained with AUC: %.4f.' % rec_rem_auc)"
   ]
  },
  {
   "cell_type": "markdown",
   "metadata": {},
   "source": [
    "Note the major drop in performance for recession conditions, which is normal for all models and usually worse for complex ML models. It's not unlikely that the more constrained monotonic GBM or penalized GLM could perform better in these conditions. \n",
    "\n",
    "Also, this tells us we need to monitor this model carefully, because when recession conditions begin, this model will fail quickly."
   ]
  },
  {
   "cell_type": "markdown",
   "metadata": {},
   "source": [
    "## Residual Analysis"
   ]
  },
  {
   "cell_type": "markdown",
   "metadata": {},
   "source": [
    "#### Calculate predictions and logloss residuals for all data "
   ]
  },
  {
   "cell_type": "code",
   "execution_count": 10,
   "metadata": {},
   "outputs": [],
   "source": [
    "# shortcut names\n",
    "yhat_name = 'phat'\n",
    "r_name = 'r' \n",
    "\n",
    "# calculate predictions\n",
    "rem_ebm_phat = pd.DataFrame(rem_ebm.predict_proba(data[rem_x_names])[:, 1], columns=['phat']) \n",
    "rem_ebm_phat = pd.concat([data.reset_index(drop=True), rem_ebm_phat], axis=1)\n",
    "\n",
    "# calculate logloss residuals\n",
    "rem_ebm_phat[r_name] = -rem_ebm_phat[y_name]*np.log(rem_ebm_phat[yhat_name]) -\\\n",
    "                       (1 - rem_ebm_phat[y_name])*np.log(1 - rem_ebm_phat[yhat_name])   "
   ]
  },
  {
   "cell_type": "markdown",
   "metadata": {},
   "source": [
    "#### Plot residuals"
   ]
  },
  {
   "cell_type": "code",
   "execution_count": 11,
   "metadata": {},
   "outputs": [
    {
     "data": {
      "image/png": "[encoded data removed]",
      "text/plain": [
       "<Figure size 576x576 with 1 Axes>"
      ]
     },
     "metadata": {
      "needs_background": "light"
     },
     "output_type": "display_data"
    }
   ],
   "source": [
    "# initialize figure\n",
    "fig, ax_ = plt.subplots(figsize=(8, 8))         \n",
    "\n",
    "# plot groups with appropriate color\n",
    "color_list = ['royalblue', 'magenta'] \n",
    "c_idx = 0\n",
    "groups = rem_ebm_phat.groupby(y_name) # define groups for levels of PAY_0\n",
    "for name, group in groups:\n",
    "    ax_.plot(group.phat, group.r, \n",
    "             label=' '.join([y_name, str(name)]),\n",
    "             marker='o', linestyle='', color=color_list[c_idx], alpha=0.3)\n",
    "    c_idx += 1\n",
    "    \n",
    "# annotate plot\n",
    "_ = plt.xlabel(yhat_name)\n",
    "_ = plt.ylabel(r_name)\n",
    "_ = ax_.legend(loc=1)\n",
    "_ = plt.title('Global Logloss Residuals')"
   ]
  },
  {
   "cell_type": "markdown",
   "metadata": {},
   "source": [
    "Residuals are very unbalanced. This model struggles to predict when customers will recieve a high-priced loan correctly. It does much better when predicting customers will NOT receive a high-priced loan. There are also some very noticable outliers."
   ]
  },
  {
   "cell_type": "markdown",
   "metadata": {},
   "source": [
    "## Remediation: Remove Outliers"
   ]
  },
  {
   "cell_type": "markdown",
   "metadata": {},
   "source": [
    "#### Find outliers"
   ]
  },
  {
   "cell_type": "code",
   "execution_count": 12,
   "metadata": {},
   "outputs": [
    {
     "data": {
      "text/html": [
       "<div>\n",
       "<style scoped>\n",
       "    .dataframe tbody tr th:only-of-type {\n",
       "        vertical-align: middle;\n",
       "    }\n",
       "\n",
       "    .dataframe tbody tr th {\n",
       "        vertical-align: top;\n",
       "    }\n",
       "\n",
       "    .dataframe thead th {\n",
       "        text-align: right;\n",
       "    }\n",
       "</style>\n",
       "<table border=\"1\" class=\"dataframe\">\n",
       "  <thead>\n",
       "    <tr style=\"text-align: right;\">\n",
       "      <th></th>\n",
       "      <th>row_id</th>\n",
       "      <th>black</th>\n",
       "      <th>asian</th>\n",
       "      <th>white</th>\n",
       "      <th>amind</th>\n",
       "      <th>hipac</th>\n",
       "      <th>hispanic</th>\n",
       "      <th>non_hispanic</th>\n",
       "      <th>male</th>\n",
       "      <th>female</th>\n",
       "      <th>...</th>\n",
       "      <th>loan_amount_std</th>\n",
       "      <th>loan_to_value_ratio_std</th>\n",
       "      <th>no_intro_rate_period_std</th>\n",
       "      <th>intro_rate_period_std</th>\n",
       "      <th>property_value_std</th>\n",
       "      <th>income_std</th>\n",
       "      <th>debt_to_income_ratio_std</th>\n",
       "      <th>high_priced</th>\n",
       "      <th>phat</th>\n",
       "      <th>r</th>\n",
       "    </tr>\n",
       "  </thead>\n",
       "  <tbody>\n",
       "    <tr>\n",
       "      <td>83113</td>\n",
       "      <td>83113</td>\n",
       "      <td>0.0</td>\n",
       "      <td>0.0</td>\n",
       "      <td>1.0</td>\n",
       "      <td>0.0</td>\n",
       "      <td>0.0</td>\n",
       "      <td>1.0</td>\n",
       "      <td>0.0</td>\n",
       "      <td>1.0</td>\n",
       "      <td>0.0</td>\n",
       "      <td>...</td>\n",
       "      <td>0.760806</td>\n",
       "      <td>-0.277030</td>\n",
       "      <td>0.244394</td>\n",
       "      <td>-0.215304</td>\n",
       "      <td>0.697459</td>\n",
       "      <td>0.017208</td>\n",
       "      <td>-0.059493</td>\n",
       "      <td>1</td>\n",
       "      <td>0.001142</td>\n",
       "      <td>6.775043</td>\n",
       "    </tr>\n",
       "    <tr>\n",
       "      <td>110822</td>\n",
       "      <td>110822</td>\n",
       "      <td>0.0</td>\n",
       "      <td>1.0</td>\n",
       "      <td>0.0</td>\n",
       "      <td>0.0</td>\n",
       "      <td>0.0</td>\n",
       "      <td>0.0</td>\n",
       "      <td>1.0</td>\n",
       "      <td>0.0</td>\n",
       "      <td>1.0</td>\n",
       "      <td>...</td>\n",
       "      <td>0.892723</td>\n",
       "      <td>-0.874794</td>\n",
       "      <td>0.244394</td>\n",
       "      <td>-0.215304</td>\n",
       "      <td>1.252485</td>\n",
       "      <td>-0.007738</td>\n",
       "      <td>-1.156406</td>\n",
       "      <td>1</td>\n",
       "      <td>0.001255</td>\n",
       "      <td>6.680585</td>\n",
       "    </tr>\n",
       "    <tr>\n",
       "      <td>121375</td>\n",
       "      <td>121375</td>\n",
       "      <td>NaN</td>\n",
       "      <td>NaN</td>\n",
       "      <td>NaN</td>\n",
       "      <td>NaN</td>\n",
       "      <td>NaN</td>\n",
       "      <td>NaN</td>\n",
       "      <td>NaN</td>\n",
       "      <td>NaN</td>\n",
       "      <td>NaN</td>\n",
       "      <td>...</td>\n",
       "      <td>8.851722</td>\n",
       "      <td>-0.249258</td>\n",
       "      <td>0.244394</td>\n",
       "      <td>-0.215304</td>\n",
       "      <td>7.758622</td>\n",
       "      <td>0.579546</td>\n",
       "      <td>-2.527547</td>\n",
       "      <td>1</td>\n",
       "      <td>0.001846</td>\n",
       "      <td>6.294497</td>\n",
       "    </tr>\n",
       "    <tr>\n",
       "      <td>80248</td>\n",
       "      <td>80248</td>\n",
       "      <td>0.0</td>\n",
       "      <td>0.0</td>\n",
       "      <td>1.0</td>\n",
       "      <td>0.0</td>\n",
       "      <td>0.0</td>\n",
       "      <td>0.0</td>\n",
       "      <td>1.0</td>\n",
       "      <td>1.0</td>\n",
       "      <td>0.0</td>\n",
       "      <td>...</td>\n",
       "      <td>1.156557</td>\n",
       "      <td>-0.262110</td>\n",
       "      <td>0.244394</td>\n",
       "      <td>-0.215304</td>\n",
       "      <td>1.036641</td>\n",
       "      <td>0.046313</td>\n",
       "      <td>-1.156406</td>\n",
       "      <td>1</td>\n",
       "      <td>0.001955</td>\n",
       "      <td>6.237543</td>\n",
       "    </tr>\n",
       "    <tr>\n",
       "      <td>143877</td>\n",
       "      <td>143877</td>\n",
       "      <td>0.0</td>\n",
       "      <td>0.0</td>\n",
       "      <td>1.0</td>\n",
       "      <td>0.0</td>\n",
       "      <td>0.0</td>\n",
       "      <td>1.0</td>\n",
       "      <td>0.0</td>\n",
       "      <td>1.0</td>\n",
       "      <td>0.0</td>\n",
       "      <td>...</td>\n",
       "      <td>0.892723</td>\n",
       "      <td>-0.339083</td>\n",
       "      <td>0.244394</td>\n",
       "      <td>-0.215304</td>\n",
       "      <td>0.851633</td>\n",
       "      <td>-0.035110</td>\n",
       "      <td>1.037419</td>\n",
       "      <td>1</td>\n",
       "      <td>0.002037</td>\n",
       "      <td>6.196345</td>\n",
       "    </tr>\n",
       "  </tbody>\n",
       "</table>\n",
       "<p>5 rows × 25 columns</p>\n",
       "</div>"
      ],
      "text/plain": [
       "        row_id  black  asian  white  amind  hipac  hispanic  non_hispanic  \\\n",
       "83113    83113    0.0    0.0    1.0    0.0    0.0       1.0           0.0   \n",
       "110822  110822    0.0    1.0    0.0    0.0    0.0       0.0           1.0   \n",
       "121375  121375    NaN    NaN    NaN    NaN    NaN       NaN           NaN   \n",
       "80248    80248    0.0    0.0    1.0    0.0    0.0       0.0           1.0   \n",
       "143877  143877    0.0    0.0    1.0    0.0    0.0       1.0           0.0   \n",
       "\n",
       "        male  female  ...  loan_amount_std  loan_to_value_ratio_std  \\\n",
       "83113    1.0     0.0  ...         0.760806                -0.277030   \n",
       "110822   0.0     1.0  ...         0.892723                -0.874794   \n",
       "121375   NaN     NaN  ...         8.851722                -0.249258   \n",
       "80248    1.0     0.0  ...         1.156557                -0.262110   \n",
       "143877   1.0     0.0  ...         0.892723                -0.339083   \n",
       "\n",
       "        no_intro_rate_period_std  intro_rate_period_std  property_value_std  \\\n",
       "83113                   0.244394              -0.215304            0.697459   \n",
       "110822                  0.244394              -0.215304            1.252485   \n",
       "121375                  0.244394              -0.215304            7.758622   \n",
       "80248                   0.244394              -0.215304            1.036641   \n",
       "143877                  0.244394              -0.215304            0.851633   \n",
       "\n",
       "        income_std  debt_to_income_ratio_std  high_priced      phat         r  \n",
       "83113     0.017208                 -0.059493            1  0.001142  6.775043  \n",
       "110822   -0.007738                 -1.156406            1  0.001255  6.680585  \n",
       "121375    0.579546                 -2.527547            1  0.001846  6.294497  \n",
       "80248     0.046313                 -1.156406            1  0.001955  6.237543  \n",
       "143877   -0.035110                  1.037419            1  0.002037  6.196345  \n",
       "\n",
       "[5 rows x 25 columns]"
      ]
     },
     "execution_count": 12,
     "metadata": {},
     "output_type": "execute_result"
    }
   ],
   "source": [
    "rem_ebm_phat.sort_values(by='r', ascending=False).head()"
   ]
  },
  {
   "cell_type": "markdown",
   "metadata": {},
   "source": [
    "#### Remove worst outliers"
   ]
  },
  {
   "cell_type": "code",
   "execution_count": 13,
   "metadata": {},
   "outputs": [],
   "source": [
    "n_remove = 10\n",
    "rem_data = data.copy(deep=True)\n",
    "rem_data.drop(list(rem_ebm_phat.sort_values(by='r', ascending=False).head(n=n_remove).index), axis=0, inplace=True)"
   ]
  },
  {
   "cell_type": "markdown",
   "metadata": {},
   "source": [
    "## Remediation: Down-sample to Increase Signal from High-priced Loans"
   ]
  },
  {
   "cell_type": "code",
   "execution_count": 14,
   "metadata": {},
   "outputs": [],
   "source": [
    "inverse_proportion_remove = 2 # corresponds to keeping 1 - (1/inverse_proportion_remove) rows\n",
    "rem_data.drop(list(rem_data[rem_data[y_name] == 0].index)[::inverse_proportion_remove], axis=0, inplace=True)"
   ]
  },
  {
   "cell_type": "markdown",
   "metadata": {},
   "source": [
    "#### Retrain remediated EBM"
   ]
  },
  {
   "cell_type": "code",
   "execution_count": 15,
   "metadata": {},
   "outputs": [
    {
     "name": "stdout",
     "output_type": "stream",
     "text": [
      "Remediated train data rows = 61518, columns = 23\n",
      "Remediated validation data rows = 26393, columns = 23\n",
      "Remediated EBM under-sampled AUC: 0.8260.\n"
     ]
    }
   ],
   "source": [
    "np.random.seed(SEED) # preserve exact reproducibility for this cell\n",
    "\n",
    "# execute split\n",
    "split = np.random.rand(len(rem_data)) < split_ratio\n",
    "rem_train = rem_data[split]\n",
    "rem_valid = rem_data[~split]\n",
    "\n",
    "# summarize split\n",
    "print('Remediated train data rows = %d, columns = %d' % (rem_train.shape[0], rem_train.shape[1]))\n",
    "print('Remediated validation data rows = %d, columns = %d' % (rem_valid.shape[0], rem_valid.shape[1]))\n",
    "\n",
    "# retrain\n",
    "rem_ebm2 = ExplainableBoostingClassifier(**rem_params)\n",
    "rem_ebm2.fit(rem_train[rem_x_names], rem_train[y_name]) \n",
    "rem_ebm_perf2 = ROC(rem_ebm2.predict_proba).explain_perf(rem_valid[rem_x_names], rem_valid[y_name])\n",
    "rem_auc2 = rem_ebm_perf2._internal_obj['overall']['auc']\n",
    "print('Remediated EBM under-sampled AUC: %.4f.' % rem_auc2)"
   ]
  },
  {
   "cell_type": "markdown",
   "metadata": {},
   "source": [
    "#### Test remediated EBM on true validation data"
   ]
  },
  {
   "cell_type": "code",
   "execution_count": 16,
   "metadata": {},
   "outputs": [
    {
     "name": "stdout",
     "output_type": "stream",
     "text": [
      "Remediated EBM true AUC: 0.8280.\n"
     ]
    }
   ],
   "source": [
    "# calculate predictions\n",
    "rem_ebm_phat2 = pd.DataFrame(rem_ebm.predict_proba(valid[rem_x_names])[:, 1], columns=['phat']) \n",
    "rem_ebm_phat2 = pd.concat([valid.reset_index(drop=True), rem_ebm_phat2], axis=1)\n",
    "rem_ebm_perf3 = ROC(rem_ebm2.predict_proba).explain_perf(valid[rem_x_names], valid[y_name])\n",
    "rem_auc3 = rem_ebm_perf3._internal_obj['overall']['auc']\n",
    "print('Remediated EBM true AUC: %.4f.' % rem_auc3) "
   ]
  },
  {
   "cell_type": "markdown",
   "metadata": {},
   "source": [
    "Dropping outliers and under-sampling increases true AUC!"
   ]
  },
  {
   "cell_type": "markdown",
   "metadata": {},
   "source": [
    "#### End global timer"
   ]
  },
  {
   "cell_type": "code",
   "execution_count": 17,
   "metadata": {},
   "outputs": [
    {
     "name": "stdout",
     "output_type": "stream",
     "text": [
      "All tasks completed in 146.02 s.\n"
     ]
    }
   ],
   "source": [
    "toc = time.time() - tic\n",
    "print('All tasks completed in %.2f s.' % (toc))"
   ]
  }
 ],
 "metadata": {
  "kernelspec": {
   "display_name": "Python 3",
   "language": "python",
   "name": "python3"
  },
  "language_info": {
   "codemirror_mode": {
    "name": "ipython",
    "version": 3
   },
   "file_extension": ".py",
   "mimetype": "text/x-python",
   "name": "python",
   "nbconvert_exporter": "python",
   "pygments_lexer": "ipython3",
   "version": "3.7.4"
  }
 },
 "nbformat": 4,
 "nbformat_minor": 5
}
